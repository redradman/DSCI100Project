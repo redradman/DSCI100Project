{
 "cells": [
  {
   "cell_type": "markdown",
   "id": "9acf42c7",
   "metadata": {},
   "source": [
    "# Pulsar detection "
   ]
  },
  {
   "cell_type": "markdown",
   "id": "9e02ea7a-71aa-4379-980b-4875d5f2e0ce",
   "metadata": {},
   "source": [
    "## Introduction\n",
    "### Background information\n",
    "\n",
    "A pulsar is a celestial body which emits precise amounts of electromagnetic radiation. It is highly sought after by astrophysicists as it is the only place where they can observe matter indirectly at nuclear density.\n",
    "\n",
    "\n",
    "\n",
    "### Question?\n",
    "\n",
    "\n",
    "Can we build an accurate classifier to distinguish pulsars from other celestial bodies solely based on data gathered from integrated profiles?\n",
    "\n",
    "\n",
    "\n",
    "### Dataset\n",
    "\n",
    "The utilized dataset is [HTRU2 Data Set](https://archive.ics.uci.edu/ml/datasets/HTRU2) collected by Dr Robert Lyon, University of Manchester. "
   ]
  },
  {
   "cell_type": "markdown",
   "id": "3f2dfdbd-1315-49c8-89c7-c2197859eb54",
   "metadata": {},
   "source": [
    "## Preliminary exploratory data analysis:"
   ]
  },
  {
   "cell_type": "code",
   "execution_count": 1,
   "id": "575c27ab-eea7-4eae-896d-1f3eae3a98ee",
   "metadata": {},
   "outputs": [
    {
     "name": "stderr",
     "output_type": "stream",
     "text": [
      "── \u001b[1mAttaching packages\u001b[22m ─────────────────────────────────────── tidyverse 1.3.1 ──\n",
      "\n",
      "\u001b[32m✔\u001b[39m \u001b[34mggplot2\u001b[39m 3.3.6     \u001b[32m✔\u001b[39m \u001b[34mpurrr  \u001b[39m 0.3.4\n",
      "\u001b[32m✔\u001b[39m \u001b[34mtibble \u001b[39m 3.1.7     \u001b[32m✔\u001b[39m \u001b[34mdplyr  \u001b[39m 1.0.9\n",
      "\u001b[32m✔\u001b[39m \u001b[34mtidyr  \u001b[39m 1.2.0     \u001b[32m✔\u001b[39m \u001b[34mstringr\u001b[39m 1.4.0\n",
      "\u001b[32m✔\u001b[39m \u001b[34mreadr  \u001b[39m 2.1.2     \u001b[32m✔\u001b[39m \u001b[34mforcats\u001b[39m 0.5.1\n",
      "\n",
      "── \u001b[1mConflicts\u001b[22m ────────────────────────────────────────── tidyverse_conflicts() ──\n",
      "\u001b[31m✖\u001b[39m \u001b[34mdplyr\u001b[39m::\u001b[32mfilter()\u001b[39m masks \u001b[34mstats\u001b[39m::filter()\n",
      "\u001b[31m✖\u001b[39m \u001b[34mdplyr\u001b[39m::\u001b[32mlag()\u001b[39m    masks \u001b[34mstats\u001b[39m::lag()\n",
      "\n",
      "── \u001b[1mAttaching packages\u001b[22m ────────────────────────────────────── tidymodels 1.0.0 ──\n",
      "\n",
      "\u001b[32m✔\u001b[39m \u001b[34mbroom       \u001b[39m 1.0.0     \u001b[32m✔\u001b[39m \u001b[34mrsample     \u001b[39m 1.0.0\n",
      "\u001b[32m✔\u001b[39m \u001b[34mdials       \u001b[39m 1.0.0     \u001b[32m✔\u001b[39m \u001b[34mtune        \u001b[39m 1.0.0\n",
      "\u001b[32m✔\u001b[39m \u001b[34minfer       \u001b[39m 1.0.2     \u001b[32m✔\u001b[39m \u001b[34mworkflows   \u001b[39m 1.0.0\n",
      "\u001b[32m✔\u001b[39m \u001b[34mmodeldata   \u001b[39m 1.0.0     \u001b[32m✔\u001b[39m \u001b[34mworkflowsets\u001b[39m 1.0.0\n",
      "\u001b[32m✔\u001b[39m \u001b[34mparsnip     \u001b[39m 1.0.0     \u001b[32m✔\u001b[39m \u001b[34myardstick   \u001b[39m 1.0.0\n",
      "\u001b[32m✔\u001b[39m \u001b[34mrecipes     \u001b[39m 1.0.1     \n",
      "\n",
      "── \u001b[1mConflicts\u001b[22m ───────────────────────────────────────── tidymodels_conflicts() ──\n",
      "\u001b[31m✖\u001b[39m \u001b[34mscales\u001b[39m::\u001b[32mdiscard()\u001b[39m masks \u001b[34mpurrr\u001b[39m::discard()\n",
      "\u001b[31m✖\u001b[39m \u001b[34mdplyr\u001b[39m::\u001b[32mfilter()\u001b[39m   masks \u001b[34mstats\u001b[39m::filter()\n",
      "\u001b[31m✖\u001b[39m \u001b[34mrecipes\u001b[39m::\u001b[32mfixed()\u001b[39m  masks \u001b[34mstringr\u001b[39m::fixed()\n",
      "\u001b[31m✖\u001b[39m \u001b[34mdplyr\u001b[39m::\u001b[32mlag()\u001b[39m      masks \u001b[34mstats\u001b[39m::lag()\n",
      "\u001b[31m✖\u001b[39m \u001b[34myardstick\u001b[39m::\u001b[32mspec()\u001b[39m masks \u001b[34mreadr\u001b[39m::spec()\n",
      "\u001b[31m✖\u001b[39m \u001b[34mrecipes\u001b[39m::\u001b[32mstep()\u001b[39m   masks \u001b[34mstats\u001b[39m::step()\n",
      "\u001b[34m•\u001b[39m Use \u001b[32mtidymodels_prefer()\u001b[39m to resolve common conflicts.\n",
      "\n"
     ]
    }
   ],
   "source": [
    "# loading dependencies\n",
    "library(tidyverse)\n",
    "library(tidymodels)"
   ]
  },
  {
   "cell_type": "markdown",
   "id": "cf87ad8d-7d2f-4a04-a441-787e6f36f032",
   "metadata": {},
   "source": [
    "**1. Showing that the data can be read and tidying the data**"
   ]
  },
  {
   "cell_type": "code",
   "execution_count": 2,
   "id": "650c4d6a-b411-43f3-89a3-e92936fa8623",
   "metadata": {},
   "outputs": [
    {
     "name": "stderr",
     "output_type": "stream",
     "text": [
      "\u001b[1mRows: \u001b[22m\u001b[34m17898\u001b[39m \u001b[1mColumns: \u001b[22m\u001b[34m9\u001b[39m\n",
      "\u001b[36m──\u001b[39m \u001b[1mColumn specification\u001b[22m \u001b[36m────────────────────────────────────────────────────────\u001b[39m\n",
      "\u001b[1mDelimiter:\u001b[22m \",\"\n",
      "\u001b[32mdbl\u001b[39m (9): X1, X2, X3, X4, X5, X6, X7, X8, X9\n",
      "\n",
      "\u001b[36mℹ\u001b[39m Use `spec()` to retrieve the full column specification for this data.\n",
      "\u001b[36mℹ\u001b[39m Specify the column types or set `show_col_types = FALSE` to quiet this message.\n"
     ]
    }
   ],
   "source": [
    "# loading the data\n",
    "pulsarData <- read_csv(\"HTRU_2.csv\", col_names = FALSE)\n",
    "\n",
    "colnames(pulsarData) <- c(\"MeanIntegratedprofile\", # X1\n",
    "                           \"SdIntegratedProfile\",   # X2\n",
    "                           \"ExcessKurtosisIntegratedProfile\", # X3\n",
    "                           \"SkewnessIntegratedProfile\", #X4\n",
    "                           \"MeanDM_SNRcurve\", # X5\n",
    "                           \"SdDM_SNRcurve\",  #X6\n",
    "                           \"ExcessKurtosisDM_SNRcurve\", #X7\n",
    "                           \"SkewnessDM_SNRcurve\", #X8\n",
    "                           \"Class\") #X9\n",
    "pulsarData = mutate(pulsarData, Class = as.factor(Class))"
   ]
  },
  {
   "cell_type": "markdown",
   "id": "42a8c9dc-3676-4b5f-af92-8a17195fbb6e",
   "metadata": {},
   "source": [
    "**2. Dividing the data into training data and validating data**"
   ]
  },
  {
   "cell_type": "code",
   "execution_count": 3,
   "id": "3041f467-b73d-4fc7-bfa0-e80e2f85276c",
   "metadata": {},
   "outputs": [],
   "source": [
    "pulsarSplit <- initial_split(pulsarData, prop = 0.75, strata = Class)\n",
    "pulsarTrain <- training(pulsarSplit)\n",
    "pulsarTesting <- testing(pulsarSplit)"
   ]
  },
  {
   "cell_type": "markdown",
   "id": "0cd33123-61c5-4ab4-9385-e0928abd3656",
   "metadata": {},
   "source": [
    "**3. Summarize the data in at least one table**\n",
    "\n",
    "Chosen features: Mean, SD, ExcessKurtosis and Skrewness of Integrated profile (Column 1, 2, 3, 4 respectively)"
   ]
  },
  {
   "cell_type": "code",
   "execution_count": 4,
   "id": "7b09dc1c-5bfe-4a9f-8e30-a3ff6b1e28ae",
   "metadata": {},
   "outputs": [
    {
     "data": {
      "text/html": [
       "<table class=\"dataframe\">\n",
       "<caption>A tibble: 2 × 6</caption>\n",
       "<thead>\n",
       "\t<tr><th scope=col>Class</th><th scope=col>Count</th><th scope=col>IQRMeanIntegratedprofile</th><th scope=col>MedianSdIntegratedprofile</th><th scope=col>MeanExcessKurtosisIntegratedProfile</th><th scope=col>SkewnessIntegratedProfile</th></tr>\n",
       "\t<tr><th scope=col>&lt;fct&gt;</th><th scope=col>&lt;int&gt;</th><th scope=col>&lt;dbl&gt;</th><th scope=col>&lt;dbl&gt;</th><th scope=col>&lt;dbl&gt;</th><th scope=col>&lt;dbl&gt;</th></tr>\n",
       "</thead>\n",
       "<tbody>\n",
       "\t<tr><td>0</td><td>12198</td><td>22.95117</td><td>5.932752</td><td>0.2120536</td><td> 0.3830901</td></tr>\n",
       "\t<tr><td>1</td><td> 1225</td><td>48.42969</td><td>8.689180</td><td>3.0999647</td><td>15.4052067</td></tr>\n",
       "</tbody>\n",
       "</table>\n"
      ],
      "text/latex": [
       "A tibble: 2 × 6\n",
       "\\begin{tabular}{llllll}\n",
       " Class & Count & IQRMeanIntegratedprofile & MedianSdIntegratedprofile & MeanExcessKurtosisIntegratedProfile & SkewnessIntegratedProfile\\\\\n",
       " <fct> & <int> & <dbl> & <dbl> & <dbl> & <dbl>\\\\\n",
       "\\hline\n",
       "\t 0 & 12198 & 22.95117 & 5.932752 & 0.2120536 &  0.3830901\\\\\n",
       "\t 1 &  1225 & 48.42969 & 8.689180 & 3.0999647 & 15.4052067\\\\\n",
       "\\end{tabular}\n"
      ],
      "text/markdown": [
       "\n",
       "A tibble: 2 × 6\n",
       "\n",
       "| Class &lt;fct&gt; | Count &lt;int&gt; | IQRMeanIntegratedprofile &lt;dbl&gt; | MedianSdIntegratedprofile &lt;dbl&gt; | MeanExcessKurtosisIntegratedProfile &lt;dbl&gt; | SkewnessIntegratedProfile &lt;dbl&gt; |\n",
       "|---|---|---|---|---|---|\n",
       "| 0 | 12198 | 22.95117 | 5.932752 | 0.2120536 |  0.3830901 |\n",
       "| 1 |  1225 | 48.42969 | 8.689180 | 3.0999647 | 15.4052067 |\n",
       "\n"
      ],
      "text/plain": [
       "  Class Count IQRMeanIntegratedprofile MedianSdIntegratedprofile\n",
       "1 0     12198 22.95117                 5.932752                 \n",
       "2 1      1225 48.42969                 8.689180                 \n",
       "  MeanExcessKurtosisIntegratedProfile SkewnessIntegratedProfile\n",
       "1 0.2120536                            0.3830901               \n",
       "2 3.0999647                           15.4052067               "
      ]
     },
     "metadata": {},
     "output_type": "display_data"
    }
   ],
   "source": [
    "pulsarTrain %>% group_by(Class) %>% summarize(Count = n(), \n",
    "                                              IQRMeanIntegratedprofile = IQR(MeanIntegratedprofile), \n",
    "                                              MedianSdIntegratedprofile = mad(SdIntegratedProfile), \n",
    "                                              MeanExcessKurtosisIntegratedProfile = mean(ExcessKurtosisIntegratedProfile),\n",
    "                                              SkewnessIntegratedProfile = mean(SkewnessIntegratedProfile))"
   ]
  },
  {
   "cell_type": "markdown",
   "id": "96841ecb-8b78-4e44-a65c-4ec5f0dbf892",
   "metadata": {},
   "source": [
    "**4. visualize the data (TO BE COMPLETED)**\n",
    "\n",
    "By Observe all relationships between each varialibles, we focus on Mean, SD, ExcessKurtosis and Skrewness of Integrated profile."
   ]
  },
  {
   "cell_type": "code",
   "execution_count": null,
   "id": "77228473-5e4b-41c1-ad56-95e1fa76ffce",
   "metadata": {},
   "outputs": [],
   "source": [
    "plot(pulsarTrain[1:8], col= pulsarTrain$Class)"
   ]
  },
  {
   "cell_type": "code",
   "execution_count": null,
   "id": "a842d1e6-aa33-4fc1-bee2-ec66cf7fa324",
   "metadata": {},
   "outputs": [],
   "source": [
    "p1 <- pulsarTrain |>\n",
    "        ggplot(aes( x = MeanIntegratedprofile, y = SdIntegratedProfile, col = Class)) +\n",
    "        geom_point(shape = 1) +\n",
    "        labs(x = \"Mean of the integrated profile\", y = \"Standard deviation of the integrated profile\", col = \"Class(non-pulsar/pulsar)\")\n",
    "p1\n",
    "\n",
    "p2 <- pulsarTrain |>\n",
    "        ggplot(aes( x = ExcessKurtosisIntegratedProfile, y = SkewnessIntegratedProfile, col = Class)) +\n",
    "        geom_point(shape = 1) +\n",
    "        labs(x = \"Excess kurtosis of the integrated profile\", y = \"Skewness of the integrated profile\", col = \"Class(non-pulsar/pulsar)\")\n",
    "p2\n",
    "\n",
    "p3 <- pulsarTrain |>\n",
    "        ggplot(aes( x = MeanIntegratedprofile, y = SkewnessIntegratedProfile, col = Class)) +\n",
    "        geom_point(shape = 1) +\n",
    "        labs(x = \"Mean of the integrated profile\", y = \"Skewness of the integrated profile\", col = \"Class(non-pulsar/pulsar)\")\n",
    "p3\n",
    "\n",
    "p3 <- pulsarTrain |>\n",
    "        ggplot(aes( x =SdIntegratedProfile, y = ExcessKurtosisIntegratedProfile, col = Class)) +\n",
    "        geom_point(shape = 1) +\n",
    "        labs(x = \"Standard deviation of the integrated profile\", y = \"Excess kurtosis of the integrated profile\", col = \"Class(non-pulsar/pulsar)\")\n",
    "p3"
   ]
  },
  {
   "cell_type": "markdown",
   "id": "bbc383f1-20e4-4e03-8eeb-35cc7b1df4cb",
   "metadata": {},
   "source": [
    "## Methods\n",
    "### Explain how you will conduct either your data analysis and which variables/columns you will use\n",
    "Classification will be used in to determine if radiation detected from a celestial body can be categorized as a pulsar. The data from integrated profiles will be used as features. **The columns to be used are the following: MeanIntegratedProfile, SdIntegratedProfile, ExcessKurtosisIntegratedProfile, SkewnessIntegratedProfile.**\n",
    "\n",
    "### Describe at least one way that you will visualize the results\n",
    "The result can be visualized using a bar plot showing the number of accurate and inaccurate pulsar detection by the classifier. "
   ]
  },
  {
   "cell_type": "markdown",
   "id": "9254ef37-29ca-431f-a3ac-3caa46b60d64",
   "metadata": {},
   "source": [
    "## Expected outcomes and significance:\n",
    "### What do you expect to find?\n",
    "We expect to separate this data into training and testing data to test the training data's accuracy and compare it to our testing data to improve its overall performance when a new observation is detected during this period. And hopefully have the outcome of high accuracy to detect new observations of pulsar stars in our plot based on our variables filtered and selected and find the relations between them, which would figure out the best k=value for further detection of new inspection.\n",
    "### What impact could such findings have?\n",
    "It will benefit the study of physics and enhance the navigation of the universe using the\n",
    "radiation emitted from the detector, and later can be used to calculate the precise\n",
    "space position.\n",
    "\n",
    "### What future questions could this lead to?\n",
    "Knowing the locations of stars to be able for future scientists to examine this data to enhance the research of outer space exploration with more precise calculations of distance which will, in the future, lead to the upgraded technology of space travelling."
   ]
  },
  {
   "cell_type": "code",
   "execution_count": null,
   "id": "9d938c4f-c3b1-474e-a54e-02b2de1bdd7a",
   "metadata": {},
   "outputs": [],
   "source": []
  }
 ],
 "metadata": {
  "kernelspec": {
   "display_name": "R",
   "language": "R",
   "name": "ir"
  },
  "language_info": {
   "codemirror_mode": "r",
   "file_extension": ".r",
   "mimetype": "text/x-r-source",
   "name": "R",
   "pygments_lexer": "r",
   "version": "4.1.3"
  }
 },
 "nbformat": 4,
 "nbformat_minor": 5
}
