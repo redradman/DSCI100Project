{
 "cells": [
  {
   "cell_type": "markdown",
   "id": "9acf42c7",
   "metadata": {},
   "source": [
    "# Pulsar detection "
   ]
  },
  {
   "cell_type": "markdown",
   "id": "9e02ea7a-71aa-4379-980b-4875d5f2e0ce",
   "metadata": {},
   "source": [
    "### Provide some relevant background information on the topic so that someone unfamiliar with it will be prepared to understand the rest of your proposal\n",
    "\n",
    "A pulsar is a celestial body which emits precise amounts of electromagnetic radiation. It is highly sought after by astrophysicists as it is the only place where they can observe matter indirectly at nuclear density. \n",
    "\n",
    "\n",
    "\n",
    "### Clearly state the question you will try to answer with your project\n",
    "\n",
    "\n",
    "Can we build an accurate classifier to distinguish pulsars from other celestial bodies?\n",
    "\n",
    "\n",
    "\n",
    "### Identify and describe the dataset that will be used to answer the question\n",
    "\n",
    "The utilized dataset is [HTRU2 Data Set](https://archive.ics.uci.edu/ml/datasets/HTRU2) collected by Dr Robert Lyon, University of Manchester. "
   ]
  },
  {
   "cell_type": "code",
   "execution_count": null,
   "id": "7b09dc1c-5bfe-4a9f-8e30-a3ff6b1e28ae",
   "metadata": {},
   "outputs": [],
   "source": []
  }
 ],
 "metadata": {
  "kernelspec": {
   "display_name": "R",
   "language": "R",
   "name": "ir"
  },
  "language_info": {
   "codemirror_mode": "r",
   "file_extension": ".r",
   "mimetype": "text/x-r-source",
   "name": "R",
   "pygments_lexer": "r",
   "version": "4.1.3"
  }
 },
 "nbformat": 4,
 "nbformat_minor": 5
}
