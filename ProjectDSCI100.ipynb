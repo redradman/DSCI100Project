{
 "cells": [
  {
   "cell_type": "markdown",
   "id": "9acf42c7",
   "metadata": {},
   "source": [
    "# DSCI 100 Project"
   ]
  },
  {
   "cell_type": "code",
   "execution_count": 2,
   "id": "0f0757e9",
   "metadata": {},
   "outputs": [],
   "source": [
    "a <- 123"
   ]
  },
  {
   "cell_type": "code",
   "execution_count": 3,
   "id": "caf6c808-64ce-4e53-aa2d-adacf0121ca4",
   "metadata": {},
   "outputs": [
    {
     "data": {
      "text/html": [
       "123"
      ],
      "text/latex": [
       "123"
      ],
      "text/markdown": [
       "123"
      ],
      "text/plain": [
       "[1] 123"
      ]
     },
     "metadata": {},
     "output_type": "display_data"
    }
   ],
   "source": [
    "a"
   ]
  },
  {
   "cell_type": "code",
   "execution_count": null,
   "id": "5c8d6167-20c0-4dd7-abad-759daa72d388",
   "metadata": {},
   "outputs": [],
   "source": []
  }
 ],
 "metadata": {
  "kernelspec": {
   "display_name": "R",
   "language": "R",
   "name": "ir"
  },
  "language_info": {
   "codemirror_mode": "r",
   "file_extension": ".r",
   "mimetype": "text/x-r-source",
   "name": "R",
   "pygments_lexer": "r",
   "version": "4.1.3"
  }
 },
 "nbformat": 4,
 "nbformat_minor": 5
}
