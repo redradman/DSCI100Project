{
 "cells": [
  {
   "cell_type": "markdown",
   "id": "9acf42c7",
   "metadata": {},
   "source": [
    "# Pulsar detection "
   ]
  },
  {
   "cell_type": "markdown",
   "id": "9e02ea7a-71aa-4379-980b-4875d5f2e0ce",
   "metadata": {},
   "source": [
    "## Introduction\n",
    "### Background information\n",
    "\n",
    "A pulsar is a celestial body which emits precise amounts of electromagnetic radiation. It is highly sought after by astrophysicists as it is the only place where they can observe matter indirectly at nuclear density. \n",
    "\n",
    "\n",
    "\n",
    "### Question?\n",
    "\n",
    "\n",
    "Can we build an accurate classifier to distinguish pulsars from other celestial bodies so?\n",
    "\n",
    "\n",
    "\n",
    "### Dataset\n",
    "\n",
    "The utilized dataset is [HTRU2 Data Set](https://archive.ics.uci.edu/ml/datasets/HTRU2) collected by Dr Robert Lyon, University of Manchester. "
   ]
  },
  {
   "cell_type": "code",
   "execution_count": 38,
   "id": "7b09dc1c-5bfe-4a9f-8e30-a3ff6b1e28ae",
   "metadata": {},
   "outputs": [
    {
     "name": "stderr",
     "output_type": "stream",
     "text": [
      "\u001b[1mRows: \u001b[22m\u001b[34m17898\u001b[39m \u001b[1mColumns: \u001b[22m\u001b[34m9\u001b[39m\n",
      "\u001b[36m──\u001b[39m \u001b[1mColumn specification\u001b[22m \u001b[36m────────────────────────────────────────────────────────\u001b[39m\n",
      "\u001b[1mDelimiter:\u001b[22m \",\"\n",
      "\u001b[32mdbl\u001b[39m (9): X1, X2, X3, X4, X5, X6, X7, X8, X9\n",
      "\n",
      "\u001b[36mℹ\u001b[39m Use `spec()` to retrieve the full column specification for this data.\n",
      "\u001b[36mℹ\u001b[39m Specify the column types or set `show_col_types = FALSE` to quiet this message.\n"
     ]
    },
    {
     "data": {
      "text/html": [
       "<table class=\"dataframe\">\n",
       "<caption>A tibble: 2 × 6</caption>\n",
       "<thead>\n",
       "\t<tr><th scope=col>Class</th><th scope=col>Count</th><th scope=col>IQRMeanDM_SNRcurve</th><th scope=col>MedianSdDM_SNRcurve</th><th scope=col>MeanExcessKurtosisDM_SNRcurve</th><th scope=col>MeanSkewnessDM_SNRcurve</th></tr>\n",
       "\t<tr><th scope=col>&lt;fct&gt;</th><th scope=col>&lt;int&gt;</th><th scope=col>&lt;dbl&gt;</th><th scope=col>&lt;dbl&gt;</th><th scope=col>&lt;dbl&gt;</th><th scope=col>&lt;dbl&gt;</th></tr>\n",
       "</thead>\n",
       "<tbody>\n",
       "\t<tr><td>0</td><td>12172</td><td> 2.394858</td><td> 6.446277</td><td>8.860264</td><td>113.5122</td></tr>\n",
       "\t<tr><td>1</td><td> 1251</td><td>66.051839</td><td>19.612766</td><td>2.771868</td><td> 18.4560</td></tr>\n",
       "</tbody>\n",
       "</table>\n"
      ],
      "text/latex": [
       "A tibble: 2 × 6\n",
       "\\begin{tabular}{llllll}\n",
       " Class & Count & IQRMeanDM\\_SNRcurve & MedianSdDM\\_SNRcurve & MeanExcessKurtosisDM\\_SNRcurve & MeanSkewnessDM\\_SNRcurve\\\\\n",
       " <fct> & <int> & <dbl> & <dbl> & <dbl> & <dbl>\\\\\n",
       "\\hline\n",
       "\t 0 & 12172 &  2.394858 &  6.446277 & 8.860264 & 113.5122\\\\\n",
       "\t 1 &  1251 & 66.051839 & 19.612766 & 2.771868 &  18.4560\\\\\n",
       "\\end{tabular}\n"
      ],
      "text/markdown": [
       "\n",
       "A tibble: 2 × 6\n",
       "\n",
       "| Class &lt;fct&gt; | Count &lt;int&gt; | IQRMeanDM_SNRcurve &lt;dbl&gt; | MedianSdDM_SNRcurve &lt;dbl&gt; | MeanExcessKurtosisDM_SNRcurve &lt;dbl&gt; | MeanSkewnessDM_SNRcurve &lt;dbl&gt; |\n",
       "|---|---|---|---|---|---|\n",
       "| 0 | 12172 |  2.394858 |  6.446277 | 8.860264 | 113.5122 |\n",
       "| 1 |  1251 | 66.051839 | 19.612766 | 2.771868 |  18.4560 |\n",
       "\n"
      ],
      "text/plain": [
       "  Class Count IQRMeanDM_SNRcurve MedianSdDM_SNRcurve\n",
       "1 0     12172  2.394858           6.446277          \n",
       "2 1      1251 66.051839          19.612766          \n",
       "  MeanExcessKurtosisDM_SNRcurve MeanSkewnessDM_SNRcurve\n",
       "1 8.860264                      113.5122               \n",
       "2 2.771868                       18.4560               "
      ]
     },
     "metadata": {},
     "output_type": "display_data"
    }
   ],
   "source": [
    "############################### Preliminary exploratory data analysis ######################################\n",
    "############################################################################################################\n",
    "############################################################################################################\n",
    "############################################################################################################\n",
    "############################################################################################################\n",
    "############################################################################################################\n",
    "\n",
    "\n",
    "# loading dependencies\n",
    "library(tidyverse)\n",
    "library(tidymodels)\n",
    "\n",
    "######################################### 1 & 2 - showing that the data can be read and tidying the data\n",
    "############################################################################################################\n",
    "\n",
    "\n",
    "\n",
    "# loading the data\n",
    "pulsarData <- read_csv(\"HTRU_2.csv\", col_names = FALSE)\n",
    "\n",
    "colnames(pulsarData) <- c(\"MeanIntegratedprofile\", # X1\n",
    "                           \"SdIntegratedProfile\",   # X2\n",
    "                           \"ExcessKurtosisIntegratedProfile\", # X3\n",
    "                           \"SkewnessIntegratedProfile\", #X4\n",
    "                           \"MeanDM_SNRcurve\", # X5\n",
    "                           \"SdDM_SNRcurve\",  #X6\n",
    "                           \"ExcessKurtosisDM_SNRcurve\", #X7\n",
    "                           \"SkewnessDM_SNRcurve\", #X8\n",
    "                           \"Class\") #X9\n",
    "pulsarData = mutate(pulsarData, Class = as.factor(Class))\n",
    "\n",
    "\n",
    "\n",
    "########################################## Dividing the data into training data and validating data\n",
    "############################################################################################################\n",
    "\n",
    "pulsarSplit <- initial_split(pulsarData, prop = 0.75, strata = Class)\n",
    "pulsarTrain <- training(pulsarSplit)\n",
    "pulsarTesting <- testing(pulsarSplit)\n",
    "\n",
    "########################################## 3 - summarize the data in at least one table\n",
    "############################################################################################################\n",
    "\n",
    "\n",
    "# Chosen features: Mean, SD, ExcessKurtosis and Skrewness of DM_SNRcurve (Column 5, 6, 7, 8 respectively)\n",
    "\n",
    "pulsarTrain %>% group_by(Class) %>% summarize(Count = n(), \n",
    "                                              IQRMeanDM_SNRcurve = IQR(MeanDM_SNRcurve), \n",
    "                                              MedianSdDM_SNRcurve = mad(SdDM_SNRcurve), \n",
    "                                              MeanExcessKurtosisDM_SNRcurve = mean(ExcessKurtosisDM_SNRcurve),\n",
    "                                              MeanSkewnessDM_SNRcurve = mean(SkewnessDM_SNRcurve))\n",
    "\n",
    "\n",
    "########################################## 4 - visualize the data (TO BE COMPLETED)\n",
    "############################################################################################################\n",
    "\n",
    "\n",
    "# plot(select(pulsarTrain, 5,7))\n",
    "# plot(select(pulsarTrain, 5,6))\n",
    "# plot(select(pulsarTrain, 7,8))\n"
   ]
  },
  {
   "cell_type": "markdown",
   "id": "bbc383f1-20e4-4e03-8eeb-35cc7b1df4cb",
   "metadata": {},
   "source": [
    "## Methods (TO BE COMPLETED)\n",
    "### Explain how you will conduct either your data analysis and which variables/columns you will use (MUST BE RECHECKED)\n",
    "Classification will be used in to determine if radiation detected from a celestial body can be categorized as a pulsar. The data from DM_SNR curve (which is the signal to noise ratio will be used). ***The columns to be used are the following: MeanDM_SNRcurve, SdDM_SNRcurve, ExcessKurtosisDM_SNRcurve, SkewnessDM_SNRcurve.***\n",
    "\n",
    "### Describe at least one way that you will visualize the results (TO BE COMPLETED)\n"
   ]
  },
  {
   "cell_type": "markdown",
   "id": "9254ef37-29ca-431f-a3ac-3caa46b60d64",
   "metadata": {},
   "source": [
    "## Expected outcomes and significance:\n",
    "### What impact could such findings have?\n",
    "It will benefit the study of physics and enhance the navigation of the universe using the\n",
    "radiation emitted from the detector, and later can be used to calculate the precise\n",
    "space position.\n",
    "\n",
    "### What future questions could this lead to?\n",
    "It can contribute to space travelling in the future; future scientists can examine this data to enhance the research of precise outer space distance for exploration."
   ]
  },
  {
   "cell_type": "code",
   "execution_count": null,
   "id": "278561bc-f1aa-41b2-a73d-d1f7920447a9",
   "metadata": {},
   "outputs": [],
   "source": []
  }
 ],
 "metadata": {
  "kernelspec": {
   "display_name": "R",
   "language": "R",
   "name": "ir"
  },
  "language_info": {
   "codemirror_mode": "r",
   "file_extension": ".r",
   "mimetype": "text/x-r-source",
   "name": "R",
   "pygments_lexer": "r",
   "version": "4.1.3"
  }
 },
 "nbformat": 4,
 "nbformat_minor": 5
}
