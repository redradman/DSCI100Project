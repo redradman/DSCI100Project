{
 "cells": [
  {
   "cell_type": "markdown",
   "id": "9acf42c7",
   "metadata": {},
   "source": [
    "# To What Extent is Smoking Related to the Appearance and Effects on Heart Disease?"
   ]
  },
  {
   "cell_type": "markdown",
   "id": "9e02ea7a-71aa-4379-980b-4875d5f2e0ce",
   "metadata": {},
   "source": [
    "Many factors influence heart disease, and smoking in our prediction, is one important and significant factor as well; Since smoking affects the health of the lungs, which results in lung cancer, there might be connections between smoking causes heart disease as well, but to examine our prediction we need to compute this experiment based on populations that."
   ]
  },
  {
   "cell_type": "code",
   "execution_count": null,
   "id": "7b09dc1c-5bfe-4a9f-8e30-a3ff6b1e28ae",
   "metadata": {},
   "outputs": [],
   "source": []
  }
 ],
 "metadata": {
  "kernelspec": {
   "display_name": "R",
   "language": "R",
   "name": "ir"
  },
  "language_info": {
   "codemirror_mode": "r",
   "file_extension": ".r",
   "mimetype": "text/x-r-source",
   "name": "R",
   "pygments_lexer": "r",
   "version": "4.1.3"
  }
 },
 "nbformat": 4,
 "nbformat_minor": 5
}
